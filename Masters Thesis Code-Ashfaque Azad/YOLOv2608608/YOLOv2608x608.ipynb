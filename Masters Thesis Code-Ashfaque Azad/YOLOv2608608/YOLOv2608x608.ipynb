{
 "cells": [
  {
   "cell_type": "markdown",
   "metadata": {},
   "source": [
    "# YOLOv2  using darkflow \n",
    "#### (ASHFAQUE AZAD MSc Computer Science (Data Analytics))"
   ]
  },
  {
   "cell_type": "markdown",
   "metadata": {},
   "source": [
    " Darkflow is the tensorflow translation of darknet\n",
    " https://github.com/thtrieu/darkflow"
   ]
  },
  {
   "cell_type": "code",
   "execution_count": 2,
   "metadata": {},
   "outputs": [],
   "source": [
    "\n",
    "import cv2 #image-processing library\n",
    "from darkflow.net.build import TFNet \n",
    "import matplotlib.pyplot as plt\n",
    "\n",
    "%config InlineBackend.figure_format = 'svg'\n"
   ]
  },
  {
   "cell_type": "markdown",
   "metadata": {},
   "source": [
    " Weights and cfg files from https://pjreddie.com/darknet/yolov2/"
   ]
  },
  {
   "cell_type": "code",
   "execution_count": 4,
   "metadata": {
    "scrolled": true
   },
   "outputs": [],
   "source": [
    "#define a dictionary called dict1\n",
    "#that is going to specify the model,weights, thresholds\n",
    "\n",
    "dict1 = {\n",
    "    'model':'cfg/yolo.cfg',#cfg file for YOLOv2608x608 model\n",
    "    'load':'bin/yolo.weights',#weights for the model trained with COCO dataset\n",
    "    'threshold': 0.4#how much a confidence factor it needs to have to draw a bounding box\n",
    "}\n",
    "\n",
    "tfnet= TFNet(dict1)"
   ]
  },
  {
   "cell_type": "code",
   "execution_count": 5,
   "metadata": {},
   "outputs": [],
   "source": [
    "image = cv2.imread(\"stopsign.png\",cv2.IMREAD_COLOR)#image\n",
    "image = cv2.cvtColor(image,cv2.COLOR_BGR2RGB)#to RGB format\n",
    "image.shape#shape of the image"
   ]
  },
  {
   "cell_type": "code",
   "execution_count": 6,
   "metadata": {},
   "outputs": [],
   "source": [
    "pred = tfnet.return_predict(image)\n",
    "pred#list of predictions"
   ]
  },
  {
   "cell_type": "code",
   "execution_count": 7,
   "metadata": {},
   "outputs": [],
   "source": [
    "for i in range(0,len(pred)):#draws bounding boxes with the labels\n",
    "    topl=(pred[i]['topleft']['x'],pred[i]['topleft']['y'])\n",
    "    botr=(pred[i]['bottomright']['x'],pred[i]['bottomright']['y'])\n",
    "    label=pred[i]['label']\n",
    "    #adding box\n",
    "    img=cv2.rectangle(image,topl,botr,(0,255,0),20)#green-colored box\n",
    "    #adding label\n",
    "    img = cv2.putText(image,label,topl,cv2.FONT_HERSHEY_COMPLEX,5,(0,0,0),20)\n",
    "\n",
    "plt.imshow(img)\n",
    "plt.show()"
   ]
  }
 ],
 "metadata": {
  "kernelspec": {
   "display_name": "Python 3",
   "language": "python",
   "name": "python3"
  },
  "language_info": {
   "codemirror_mode": {
    "name": "ipython",
    "version": 3
   },
   "file_extension": ".py",
   "mimetype": "text/x-python",
   "name": "python",
   "nbconvert_exporter": "python",
   "pygments_lexer": "ipython3",
   "version": "3.6.3"
  }
 },
 "nbformat": 4,
 "nbformat_minor": 2
}
