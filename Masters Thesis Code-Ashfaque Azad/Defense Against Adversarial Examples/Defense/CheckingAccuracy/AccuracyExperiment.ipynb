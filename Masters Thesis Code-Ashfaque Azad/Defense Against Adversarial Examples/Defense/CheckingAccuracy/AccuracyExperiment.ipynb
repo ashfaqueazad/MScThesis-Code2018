{
 "cells": [
  {
   "cell_type": "markdown",
   "metadata": {},
   "source": [
    "#### (ASHFAQUE AZAD MSc Computer Science (Data Analytics))"
   ]
  },
  {
   "cell_type": "code",
   "execution_count": 1,
   "metadata": {},
   "outputs": [],
   "source": [
    "import numpy as np\n",
    "import pandas as pd\n",
    "df1 = pd.read_csv(\"dataframe01.csv\")\n",
    "df2 = pd.read_csv(\"dataframe02.csv\")\n",
    "df3 = pd.read_csv(\"dataframe03.csv\")\n",
    "df4 = pd.read_csv(\"dataframe04.csv\")\n",
    "df5 = pd.read_csv(\"dataframe05.csv\")\n",
    "df6 = pd.read_csv(\"dataframe06.csv\")"
   ]
  },
  {
   "cell_type": "code",
   "execution_count": 2,
   "metadata": {},
   "outputs": [],
   "source": [
    "del df1['Unnamed: 0']\n",
    "del df2['Unnamed: 0']\n",
    "del df3['Unnamed: 0']\n",
    "del df4['Unnamed: 0']\n",
    "del df5['Unnamed: 0']\n",
    "del df6['Unnamed: 0']"
   ]
  },
  {
   "cell_type": "code",
   "execution_count": 3,
   "metadata": {},
   "outputs": [],
   "source": [
    "dataset=pd.concat([df1,df2,df3,df4,df5,df6], axis=0)"
   ]
  },
  {
   "cell_type": "code",
   "execution_count": 4,
   "metadata": {},
   "outputs": [],
   "source": [
    "dataset=dataset.reset_index(drop=True)\n",
    "#0 =original image\n",
    "#1 =median filter on the original image\n",
    "#2 =adversarial inputs\n",
    "#3 =defense"
   ]
  },
  {
   "cell_type": "code",
   "execution_count": 5,
   "metadata": {},
   "outputs": [],
   "source": [
    "dataset.to_csv(\"final_datset.csv\")"
   ]
  },
  {
   "cell_type": "code",
   "execution_count": 6,
   "metadata": {},
   "outputs": [],
   "source": [
    "\n",
    "dataset=dataset.replace(\"*\",2000)"
   ]
  },
  {
   "cell_type": "markdown",
   "metadata": {},
   "source": [
    "## Original Images correctly classified after median filtering"
   ]
  },
  {
   "cell_type": "code",
   "execution_count": 7,
   "metadata": {},
   "outputs": [
    {
     "data": {
      "text/plain": [
       "90.0"
      ]
     },
     "execution_count": 7,
     "metadata": {},
     "output_type": "execute_result"
    }
   ],
   "source": [
    "# % of original rightly classified using median filter 3x3\n",
    "np.sum(dataset['0'].astype(int)==dataset['1'].astype(int))/len(dataset)*100"
   ]
  },
  {
   "cell_type": "markdown",
   "metadata": {},
   "source": [
    "## Percentage of successfully generated adversarial examples which fools 2 pre-trained nets"
   ]
  },
  {
   "cell_type": "code",
   "execution_count": 8,
   "metadata": {},
   "outputs": [
    {
     "data": {
      "text/plain": [
       "65.83333333333333"
      ]
     },
     "execution_count": 8,
     "metadata": {},
     "output_type": "execute_result"
    }
   ],
   "source": [
    "# % of successfully targeted adversarial of class 390\n",
    "np.sum(dataset['2'].astype(int)==390)/len(dataset)*100"
   ]
  },
  {
   "cell_type": "markdown",
   "metadata": {},
   "source": [
    "## Percentage of images successfully defended by the model"
   ]
  },
  {
   "cell_type": "code",
   "execution_count": 9,
   "metadata": {},
   "outputs": [
    {
     "data": {
      "text/plain": [
       "87.5"
      ]
     },
     "execution_count": 9,
     "metadata": {},
     "output_type": "execute_result"
    }
   ],
   "source": [
    "# % of correctly classified images after defense\n",
    "np.sum(dataset['0'].astype(int)==dataset['3'].astype(int))/len(dataset)*100"
   ]
  },
  {
   "cell_type": "code",
   "execution_count": 13,
   "metadata": {},
   "outputs": [],
   "source": [
    "# np.sum(dataset['1'].astype(int)==dataset['3'].astype(int))/len(dataset)*100"
   ]
  },
  {
   "cell_type": "code",
   "execution_count": 10,
   "metadata": {},
   "outputs": [
    {
     "data": {
      "text/plain": [
       "82.27848101265823"
      ]
     },
     "execution_count": 10,
     "metadata": {},
     "output_type": "execute_result"
    }
   ],
   "source": [
    "import pandas as pd\n",
    "q = pd.read_csv(\"final_datset.csv\")\n",
    "del q['Unnamed: 0']\n",
    "q390=q[q['2']=='390']#subset of the dataset where the adversarial successfully fooled the network\n",
    "# % of original rightly classified by the ensemble network\n",
    "import numpy as np\n",
    "q390=q390.replace(\"*\",2000)\n",
    "np.sum(q390['0'].astype(int)==q390['3'].astype(int))/len(q390)*100"
   ]
  },
  {
   "cell_type": "code",
   "execution_count": 11,
   "metadata": {},
   "outputs": [
    {
     "data": {
      "text/plain": [
       "97.5609756097561"
      ]
     },
     "execution_count": 11,
     "metadata": {},
     "output_type": "execute_result"
    }
   ],
   "source": [
    "import pandas as pd\n",
    "q = pd.read_csv(\"final_datset.csv\")\n",
    "del q['Unnamed: 0']\n",
    "q390=q[q['2']!='390']#subset of the dataset where the adversarial didn't fool\n",
    "# % of original rightly classified by the ensemble network\n",
    "import numpy as np\n",
    "q390=q390.replace(\"*\",2000)\n",
    "np.sum(q390['0'].astype(int)==q390['3'].astype(int))/len(q390)*100"
   ]
  },
  {
   "cell_type": "markdown",
   "metadata": {},
   "source": [
    "# The model was able to defend against the attack 87.5% of times.\n",
    "## Of the 65% successful generation of adversarial images, the model was successful in defending against them 82.2% of the times"
   ]
  }
 ],
 "metadata": {
  "kernelspec": {
   "display_name": "Python 3",
   "language": "python",
   "name": "python3"
  },
  "language_info": {
   "codemirror_mode": {
    "name": "ipython",
    "version": 3
   },
   "file_extension": ".py",
   "mimetype": "text/x-python",
   "name": "python",
   "nbconvert_exporter": "python",
   "pygments_lexer": "ipython3",
   "version": "3.6.3"
  }
 },
 "nbformat": 4,
 "nbformat_minor": 2
}
