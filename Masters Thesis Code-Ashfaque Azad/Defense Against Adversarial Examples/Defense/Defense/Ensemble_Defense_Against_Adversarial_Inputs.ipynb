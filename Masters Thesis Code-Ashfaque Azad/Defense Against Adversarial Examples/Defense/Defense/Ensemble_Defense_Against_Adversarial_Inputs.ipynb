{
 "cells": [
  {
   "cell_type": "markdown",
   "metadata": {
    "colab_type": "text",
    "id": "KuD4vjxqmYBh"
   },
   "source": [
    "** MODEL FOR DEFENSE AGAINST ADVERSARIAL IMAGES**"
   ]
  },
  {
   "cell_type": "markdown",
   "metadata": {},
   "source": [
    "#### (ASHFAQUE AZAD MSc Computer Science (Data Analytics))"
   ]
  },
  {
   "cell_type": "markdown",
   "metadata": {
    "colab_type": "text",
    "id": "1VFOdAJqpfEg"
   },
   "source": [
    "*Uses Foolbox to generate adversarial images*\n",
    "https://github.com/bethgelab/foolbox"
   ]
  },
  {
   "cell_type": "markdown",
   "metadata": {
    "colab_type": "text",
    "id": "RR5a0twCpuaH"
   },
   "source": [
    "@article{rauber2017foolbox,\n",
    "  \n",
    "  title={Foolbox: A Python toolbox to benchmark the robustness of machine learning models},\n",
    "  \n",
    "  author={Rauber, Jonas and Brendel, Wieland and Bethge, Matthias},\n",
    "  \n",
    "  journal={arXiv preprint arXiv:1707.04131},\n",
    "  \n",
    "  year={2017},\n",
    "  \n",
    "  url={http://arxiv.org/abs/1707.04131},\n",
    "  \n",
    "  archivePrefix={arXiv},\n",
    "  \n",
    "  eprint={1707.04131},\n",
    "}"
   ]
  },
  {
   "cell_type": "markdown",
   "metadata": {
    "colab_type": "text",
    "id": "uGf0Iwayq49V"
   },
   "source": [
    "## The model works in the following way\n",
    "\n",
    "\n",
    "1.   Median filtering of the input image (3 x 3 filter)\n",
    "2.   Filtered image is passed to 3 pre-trained models (ResNet18,VGG16,DENSENET) simultaneously.\n",
    "3.   Majority vote. \n",
    "\n",
    "\n"
   ]
  },
  {
   "cell_type": "markdown",
   "metadata": {},
   "source": [
    "## The attack method attacks 2 of the pre-trained models at the same time.\n",
    "\n",
    "It works in the following way:\n",
    "\n",
    "1.Generate two adversaries of the same class from two different models\n",
    "\n",
    "2.Extract the adversarial inputs (Adversarial image minus the original image) from the \n",
    "      two adversarial images and add it to the original image. Let this be called X\n",
    "\n",
    "3.Clip the numbers of X array which crosses the boundary limitations for the image.\n",
    "      e.g. [0-1] or [0-255] being the boundary limits.\n",
    "     \n",
    "It is shown that this attack was successful in the model 65% of time without median filtering."
   ]
  },
  {
   "cell_type": "code",
   "execution_count": 1,
   "metadata": {
    "colab": {},
    "colab_type": "code",
    "id": "6ApRpWvfLtSY"
   },
   "outputs": [],
   "source": [
    "from google.colab import files\n",
    "uploaded=files.upload()#upload the images"
   ]
  },
  {
   "cell_type": "code",
   "execution_count": 2,
   "metadata": {
    "colab": {},
    "colab_type": "code",
    "id": "6P2GUPKgsuCu"
   },
   "outputs": [],
   "source": [
    "#120 images. Broken down here into 6 lists due to issues related to Google Colab shutting down midway\n",
    "imageList1=['agama.jpg',\n",
    "'agama1.jpg',\n",
    "'agama2.jpg',\n",
    "'airliner.jpg',\n",
    "'airliner1.jpg',\n",
    "'airliner2.jpg',\n",
    "'armadillo.jpg',\n",
    "'armadillo1.jpg',\n",
    "'armadillo2.jpg',\n",
    "'banana.jpg',\n",
    "'banana1.jpg',\n",
    "'banana2.jpg',\n",
    "'beagle.jpg',\n",
    "'beagle1.jpg',\n",
    "'beagle2.jpg',\n",
    "'bee.jpg',\n",
    "'bee1.jpg',\n",
    "'bee2.jpg',\n",
    "'binoculars.jpg',\n",
    "'binoculars1.jpg',\n",
    "'binoculars2.jpg']\n",
    "imageList2=['bulbul.jpg',\n",
    "'bulbul1.jpg',\n",
    "'bulbul2.jpg',\n",
    "'camel.jpg',\n",
    "'camel1.jpg',\n",
    "'camel2.jpg',\n",
    "'cellphone.jpg',\n",
    "'cellphone1.jpg',\n",
    "'cellphone2.jpg',\n",
    "'cheetah.jpg',\n",
    "'cheetah1.jpg',\n",
    "'cheetah2.jpg',\n",
    "'cockroach.jpg',\n",
    "'cockroach1.jpg',\n",
    "'cockroach2.jpg',\n",
    "'daisy.jpg',\n",
    "'daisy1.jpg',\n",
    "'daisy2.jpg',\n",
    "'flamingo.jpg',\n",
    "'flamingo1.jpg',\n",
    "'flamingo2.jpg']\n",
    "imageList3=['germanshepherd.jpg',\n",
    "'germanshepherd1.jpg',\n",
    "'germanshepherd2.jpg',\n",
    "'glofball.jpg',\n",
    "'glofball1.jpg',\n",
    "'glofball2.jpg',\n",
    "'goose.jpg',\n",
    "'goose1.jpg',\n",
    "'goose2.jpg',\n",
    "'hare.jpg',\n",
    "'hare1.jpg',\n",
    "'hare2.jpg',\n",
    "'hippopotamus.jpg',\n",
    "'hippopotamus1.jpg',\n",
    "'hippopotamus2.jpg',\n",
    "'hummingbird.jpg',\n",
    "'hummingbird1.jpg',\n",
    "'hummingbird2.jpg',\n",
    "'jellyfish.jpg',\n",
    "'jellyfish1.jpg',\n",
    "'jellyfish2.jpg']\n",
    "imageList4=['langur.jpg',\n",
    "'langur1.jpg',\n",
    "'langur2.jpg',\n",
    "'lion.jpg',\n",
    "'lion1.jpg',\n",
    "'lion2.jpg',\n",
    "'lorikeet.jpg',\n",
    "'lorikeet1.jpg',\n",
    "'lorikeet2.jpg',\n",
    "'magpie.jpg',\n",
    "'magpie1.jpg',\n",
    "'magpie2.jpg',\n",
    "'mongoose.jpg',\n",
    "'mongoose1.jpg',\n",
    "'mongoose2.jpg',\n",
    "'ostrich.jpg',\n",
    "'ostrich1.jpg',\n",
    "'ostrich2.jpg',\n",
    "'peacock.jpg',\n",
    "'peacock1.jpg',\n",
    "'peacock2.jpg']\n",
    "imageList5=['pineapple.jpg',\n",
    "'pineapple1.jpg',\n",
    "'pineapple2.jpg',\n",
    "'scorpion.jpg',\n",
    "'scorpion1.jpg',\n",
    "'scorpion2.jpg',\n",
    "'snail.jpg',\n",
    "'snail1.jpg',\n",
    "'snail2.jpg',\n",
    "'snake.jpg',\n",
    "'snake1.jpg',\n",
    "'snake2.jpg',\n",
    "'sportscar.jpg',\n",
    "'sportscar1.jpg',\n",
    "'sportscar2.jpg',\n",
    "'starfish.jpg',\n",
    "'starfish1.jpg',\n",
    "'starfish2.jpg',\n",
    "'streetsign.jpg',\n",
    "'streetsign1.jpg',\n",
    "'streetsign2.jpg']\n",
    "imageList6=['tiger.jpeg',\n",
    "'tiger1.jpg',\n",
    "'tiger2.jpg',\n",
    "'tigercat.jpg',\n",
    "'tigercat1.jpg',\n",
    "'tigercat2.jpg',\n",
    "'toaster.jpg',\n",
    "'toaster1.jpg',\n",
    "'toaster2.jpg',\n",
    "'vulture.jpg',\n",
    "'vulture1.jpg',\n",
    "'vulture2.jpg',\n",
    "'zebra.jpg',\n",
    "'zebra1.jpg',\n",
    "'zebra2.jpg']"
   ]
  },
  {
   "cell_type": "code",
   "execution_count": 3,
   "metadata": {
    "colab": {},
    "colab_type": "code",
    "id": "1etDJ53VPLpD"
   },
   "outputs": [],
   "source": [
    "#This part is to be run everytime in a Google Colab environment\n",
    "!pip install image\n",
    "!pip install foolbox\n",
    "!pip install torch\n",
    "!pip install torchvision"
   ]
  },
  {
   "cell_type": "code",
   "execution_count": 4,
   "metadata": {
    "colab": {},
    "colab_type": "code",
    "id": "S939He9KPic5"
   },
   "outputs": [],
   "source": [
    "import os\n",
    "\n",
    "import numpy as np\n",
    "\n",
    "#This part of the code is from : \n",
    "#https://github.com/bethgelab/foolbox\n",
    "\n",
    "def imagenet_example(shape=(224, 224), data_format='channels_last'):\n",
    "    \"\"\" Returns an example image and its imagenet class label.\n",
    "    Parameters\n",
    "    ----------\n",
    "    shape : list of integers\n",
    "        The shape of the returned image.\n",
    "    data_format : str\n",
    "        \"channels_first\" or \"channels_last\"\n",
    "    Returns\n",
    "    -------\n",
    "    image : array_like\n",
    "        The example image.\n",
    "    label : int\n",
    "        The imagenet label associated with the image.\n",
    "    \"\"\"\n",
    "    assert len(shape) == 2\n",
    "    assert data_format in ['channels_first', 'channels_last']\n",
    "\n",
    "    from PIL import Image\n",
    "    from urllib.request import urlretrieve\n",
    "    path = os.path.join(nameOfTheImage)\n",
    "    image = Image.open(path)\n",
    "    image = image.resize(shape)\n",
    "    image = np.asarray(image, dtype=np.float32)\n",
    "    image = image[:, :, :3]\n",
    "    assert image.shape == shape + (3,)\n",
    "    if data_format == 'channels_first':\n",
    "        image = np.transpose(image, (2, 0, 1))\n",
    "    return image"
   ]
  },
  {
   "cell_type": "code",
   "execution_count": 5,
   "metadata": {
    "colab": {},
    "colab_type": "code",
    "id": "4wxcf37bPl7o"
   },
   "outputs": [],
   "source": [
    "#Imports the necessary libraries\n",
    "import foolbox\n",
    "import torch\n",
    "import torchvision.models as models\n",
    "import numpy as np"
   ]
  },
  {
   "cell_type": "code",
   "execution_count": 6,
   "metadata": {
    "colab": {},
    "colab_type": "code",
    "id": "pasbkz24Pow9"
   },
   "outputs": [],
   "source": [
    "def RESNET18(targetClass):\n",
    "  # instantiate the model (as per foolbox)\n",
    "  resnet18 = models.resnet18(pretrained=True).eval()\n",
    "  if torch.cuda.is_available():\n",
    "      resnet18 = resnet18.cuda()\n",
    "  mean = np.array([0.485, 0.456, 0.406]).reshape((3, 1, 1))\n",
    "  std = np.array([0.229, 0.224, 0.225]).reshape((3, 1, 1))\n",
    "  fmodel = foolbox.models.PyTorchModel(\n",
    "      resnet18, bounds=(0, 1), num_classes=1000, preprocessing=(mean, std))\n",
    "\n",
    "  # get source image and label\n",
    "  image = imagenet_example(data_format='channels_first')\n",
    "  image = image / 255.  # because our model expects values in [0, 1]\n",
    "\n",
    "\n",
    "  print('predicted class(RESNET)', np.argmax(fmodel.predictions(image)))\n",
    "\n",
    "  from foolbox.criteria import TargetClassProbability\n",
    "\n",
    "  target_class = targetClass#372 #https://gist.github.com/ageitgey/4e1342c10a71981d0b491e1b8227328b\n",
    "  criterion = TargetClassProbability(target_class, p=0.95)\n",
    "\n",
    "  # apply attack on source image\n",
    "  attack = foolbox.attacks.LBFGSAttack(fmodel,criterion)\n",
    "\n",
    "  adversarial = attack(image,np.argmax(fmodel.predictions(image)))\n",
    "\n",
    "  print('adversarial class(RESNET)', np.argmax(fmodel.predictions(adversarial)))\n",
    "  \n",
    "  #returns image,model, adversarial\n",
    "  return image,fmodel,adversarial"
   ]
  },
  {
   "cell_type": "code",
   "execution_count": 7,
   "metadata": {
    "colab": {},
    "colab_type": "code",
    "id": "iCZf2FPYPtOp"
   },
   "outputs": [],
   "source": [
    "def VGG16(targetClass):\n",
    "  # instantiate the model (as per foolbox)\n",
    "  vgg16 = models.vgg16(pretrained=True).eval()\n",
    "  if torch.cuda.is_available():\n",
    "      vgg16 = vgg16.cuda()\n",
    "  mean = np.array([0.485, 0.456, 0.406]).reshape((3, 1, 1))\n",
    "  std = np.array([0.229, 0.224, 0.225]).reshape((3, 1, 1))\n",
    "  fmodel1 = foolbox.models.PyTorchModel(\n",
    "      vgg16, bounds=(0, 1), num_classes=1000, preprocessing=(mean, std))\n",
    "\n",
    "  # get source image and label\n",
    "  image1 = imagenet_example(data_format='channels_first')\n",
    "  image1 = image1 / 255.  # because our model expects values in [0, 1]\n",
    "\n",
    "\n",
    "  print('predicted class(VGG16)', np.argmax(fmodel1.predictions(image1)))\n",
    "\n",
    "  from foolbox.criteria import TargetClassProbability\n",
    "\n",
    "  target_class1 = targetClass #https://gist.github.com/ageitgey/4e1342c10a71981d0b491e1b8227328b\n",
    "  criterion1 = TargetClassProbability(target_class1, p=0.95)\n",
    "\n",
    "  # apply attack on source image\n",
    "  attack1 = foolbox.attacks.LBFGSAttack(fmodel1,criterion1)\n",
    "\n",
    "  adversarial1 = attack1(image1,np.argmax(fmodel1.predictions(image1)))\n",
    "\n",
    "  print('adversarial class(VGG16)', np.argmax(fmodel1.predictions(adversarial1)))\n",
    "  \n",
    "  return image1,fmodel1,adversarial1"
   ]
  },
  {
   "cell_type": "code",
   "execution_count": 8,
   "metadata": {
    "colab": {},
    "colab_type": "code",
    "id": "2ECWbt7xPv14"
   },
   "outputs": [],
   "source": [
    "\n",
    "def DENSENET():\n",
    "  # instantiate the model (as per foolbox)\n",
    "  densenet = models.densenet161(pretrained=True).eval()\n",
    "  if torch.cuda.is_available():\n",
    "      densenet = densenet.cuda()\n",
    "  mean = np.array([0.485, 0.456, 0.406]).reshape((3, 1, 1))\n",
    "  std = np.array([0.229, 0.224, 0.225]).reshape((3, 1, 1))\n",
    "  fmodel2 = foolbox.models.PyTorchModel(\n",
    "      densenet, bounds=(0, 1), num_classes=1000, preprocessing=(mean, std))\n",
    "\n",
    "  # get source image and label\n",
    "  image2 = imagenet_example(data_format='channels_first')\n",
    "  image2 = image2 / 255.  # because our model expects values in [0, 1]\n",
    "\n",
    "\n",
    "  print('predicted class(DENSENET)', np.argmax(fmodel2.predictions(image2)))\n",
    "  \n",
    "  return image2,fmodel2"
   ]
  },
  {
   "cell_type": "markdown",
   "metadata": {},
   "source": [
    "## First line of defense"
   ]
  },
  {
   "cell_type": "code",
   "execution_count": 9,
   "metadata": {
    "colab": {},
    "colab_type": "code",
    "id": "tBu8z0vuP2X8"
   },
   "outputs": [],
   "source": [
    "import numpy \n",
    "import cv2\n",
    "def defense(altered):#median filter using 3 x 3 filter\n",
    "  return cv2.medianBlur(altered,3)"
   ]
  },
  {
   "cell_type": "markdown",
   "metadata": {},
   "source": [
    "## Second line of defense"
   ]
  },
  {
   "cell_type": "code",
   "execution_count": 10,
   "metadata": {
    "colab": {},
    "colab_type": "code",
    "id": "S7Pqa00PP5K5"
   },
   "outputs": [],
   "source": [
    "def ensemble(inputImage):#Must be odd Numbers\n",
    "  listPredictions=[]#list would contain the predictions\n",
    "  listPredictions.append(np.argmax(fmodel.predictions(inputImage)))\n",
    "  listPredictions.append(np.argmax(fmodel1.predictions(inputImage)))\n",
    "  listPredictions.append(np.argmax(fmodel2.predictions(inputImage)))\n",
    "  \n",
    "  if(listPredictions.count(max(set(listPredictions),key=listPredictions.count))==1):#if the maximum class occurs just once\n",
    "    return \"***adversarial***\"#in case all models predict different classes\n",
    "  else:\n",
    "    return max(set(listPredictions),key=listPredictions.count),listPredictions#sends the class with maximum occurence"
   ]
  },
  {
   "cell_type": "markdown",
   "metadata": {},
   "source": [
    "## The complete model including both the defenses"
   ]
  },
  {
   "cell_type": "code",
   "execution_count": 11,
   "metadata": {
    "colab": {},
    "colab_type": "code",
    "id": "TyTqshkcP7Yd"
   },
   "outputs": [],
   "source": [
    "def defenseEnsemble(inputImage):#uses ensemble(abc) and defense(xyz) functions\n",
    "  x=ensemble(inputImage)\n",
    "  y=ensemble(defense(inputImage))\n",
    "  print(\"Prediction Before Defense\",x)\n",
    "  print(\"Prediction After Defense\",y)\n",
    "  if(x!=y):\n",
    "    print(\"Warning:Adversarial Input\")\n",
    "  return x[0],y[0]#returns the max predictions"
   ]
  },
  {
   "cell_type": "code",
   "execution_count": 12,
   "metadata": {
    "colab": {},
    "colab_type": "code",
    "id": "ObmOSISOP-U7"
   },
   "outputs": [],
   "source": [
    "origImage=[]#original classes\n",
    "defeImage=[]#classes after 1st line of defense\n",
    "origAdv=[]#adversarial classes should be 390 , if not then adversarial class is not robust for that instance \n",
    "defeAdv=[]#defended classes, should equal the origImage"
   ]
  },
  {
   "cell_type": "markdown",
   "metadata": {},
   "source": [
    "## Attack and the defense"
   ]
  },
  {
   "cell_type": "code",
   "execution_count": 13,
   "metadata": {
    "colab": {},
    "colab_type": "code",
    "id": "f3vmZr3qQBnb"
   },
   "outputs": [],
   "source": [
    "for i in range(0,len(imageList6)):#Here put imageList1 to imageList6\n",
    "  print(i)\n",
    "  nameOfTheImage=imageList6[i]#change the list accordingly\n",
    "  \n",
    "  image,fmodel,adversarial=RESNET18(390)#would classify as eel 390\n",
    "  image1,fmodel1,adversarial1=VGG16(390)#would classify as eel 390\n",
    "  image2,fmodel2=DENSENET()#unattacked DENSENET model\n",
    "  \n",
    "  #Differences\n",
    "  diffVGG=adversarial1-image1\n",
    "  diffRES=adversarial-image\n",
    "  \n",
    "  perturbation=image+diffRES+diffVGG#addition of the noise to the input image\n",
    "  perturbation=numpy.clip(perturbation,0,1)#clipping so that the boundary conditions are not violated.\n",
    "  \n",
    "  a,b=defenseEnsemble(image)\n",
    "  origImage.append(a)\n",
    "  defeImage.append(b)\n",
    "  \n",
    "  c,d=defenseEnsemble(perturbation)\n",
    "  origAdv.append(c)\n",
    "  defeAdv.append(d)"
   ]
  },
  {
   "cell_type": "markdown",
   "metadata": {
    "colab_type": "text",
    "id": "iO6U1fN-olOL"
   },
   "source": [
    "**CODE ENDS, BELOW IS THE CODE REQUIRED FOR DATAFRAME GENERATION TO GET THE ACCURACY**"
   ]
  },
  {
   "cell_type": "code",
   "execution_count": 14,
   "metadata": {
    "colab": {},
    "colab_type": "code",
    "id": "IHdKokb4ggs8"
   },
   "outputs": [],
   "source": [
    "import pandas as pd\n",
    "df = pd.DataFrame(origImage)\n",
    "df['1']=pd.DataFrame(defeImage)\n",
    "df['2']=pd.DataFrame(origAdv)\n",
    "df['3']=pd.DataFrame(defeAdv)\n",
    "df"
   ]
  },
  {
   "cell_type": "code",
   "execution_count": 15,
   "metadata": {
    "colab": {},
    "colab_type": "code",
    "id": "3LTXe4sh41Fw"
   },
   "outputs": [],
   "source": [
    "df1 = pd.DataFrame(origImage)\n",
    "df1['1']=pd.DataFrame(defeImage)\n",
    "df1['2']=pd.DataFrame(origAdv)\n",
    "df1['3']=pd.DataFrame(defeAdv)\n",
    "df1"
   ]
  },
  {
   "cell_type": "code",
   "execution_count": 16,
   "metadata": {
    "colab": {},
    "colab_type": "code",
    "id": "8V-fmGHlDD6H"
   },
   "outputs": [],
   "source": [
    "df2 = pd.DataFrame(origImage)\n",
    "df2['1']=pd.DataFrame(defeImage)\n",
    "df2['2']=pd.DataFrame(origAdv)\n",
    "df2['3']=pd.DataFrame(defeAdv)\n",
    "df2"
   ]
  },
  {
   "cell_type": "code",
   "execution_count": 17,
   "metadata": {
    "colab": {},
    "colab_type": "code",
    "id": "CJkVwk0nPNka"
   },
   "outputs": [],
   "source": [
    "df3 = pd.DataFrame(origImage)\n",
    "df3['1']=pd.DataFrame(defeImage)\n",
    "df3['2']=pd.DataFrame(origAdv)\n",
    "df3['3']=pd.DataFrame(defeAdv)\n",
    "df3"
   ]
  },
  {
   "cell_type": "code",
   "execution_count": 18,
   "metadata": {
    "colab": {},
    "colab_type": "code",
    "id": "KD33Vc8obBt7"
   },
   "outputs": [],
   "source": [
    "df4 = pd.DataFrame(origImage)\n",
    "df4['1']=pd.DataFrame(defeImage)\n",
    "df4['2']=pd.DataFrame(origAdv)\n",
    "df4['3']=pd.DataFrame(defeAdv)\n",
    "df4"
   ]
  },
  {
   "cell_type": "code",
   "execution_count": 19,
   "metadata": {
    "colab": {},
    "colab_type": "code",
    "id": "O0CI-dGslLpL"
   },
   "outputs": [],
   "source": [
    "df5 = pd.DataFrame(origImage)\n",
    "df5['1']=pd.DataFrame(defeImage)\n",
    "df5['2']=pd.DataFrame(origAdv)\n",
    "df5['3']=pd.DataFrame(defeAdv)\n",
    "df5"
   ]
  },
  {
   "cell_type": "code",
   "execution_count": 20,
   "metadata": {
    "colab": {},
    "colab_type": "code",
    "id": "LcSeRfvcuIhk"
   },
   "outputs": [],
   "source": [
    "# from google.colab import files\n",
    "# df5.to_csv(\"dataframe06.csv\")#from df to df5.\n",
    "# files.download('dataframe06.csv')#dataframe01 to dataframe06"
   ]
  }
 ],
 "metadata": {
  "accelerator": "GPU",
  "colab": {
   "collapsed_sections": [],
   "name": "Ensemble_Defense_Against_Adversarial_Inputs.ipynb",
   "provenance": [],
   "version": "0.3.2"
  },
  "kernelspec": {
   "display_name": "Python 3",
   "language": "python",
   "name": "python3"
  },
  "language_info": {
   "codemirror_mode": {
    "name": "ipython",
    "version": 3
   },
   "file_extension": ".py",
   "mimetype": "text/x-python",
   "name": "python",
   "nbconvert_exporter": "python",
   "pygments_lexer": "ipython3",
   "version": "3.6.3"
  }
 },
 "nbformat": 4,
 "nbformat_minor": 1
}
